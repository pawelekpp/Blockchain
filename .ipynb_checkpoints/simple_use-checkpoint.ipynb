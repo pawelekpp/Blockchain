{
 "cells": [
  {
   "cell_type": "markdown",
   "metadata": {},
   "source": [
    "https://medium.com/crypto-currently/lets-build-the-tiniest-blockchain-e70965a248b"
   ]
  },
  {
   "cell_type": "code",
   "execution_count": 5,
   "metadata": {},
   "outputs": [
    {
     "ename": "IndentationError",
     "evalue": "expected an indented block (Block.py, line 5)",
     "output_type": "error",
     "traceback": [
      "\u001b[0;36m  File \u001b[0;32m\"/home/piedziak/pawel_github/Blockchain/Block.py\"\u001b[0;36m, line \u001b[0;32m5\u001b[0m\n\u001b[0;31m    self.index = index\u001b[0m\n\u001b[0m       ^\u001b[0m\n\u001b[0;31mIndentationError\u001b[0m\u001b[0;31m:\u001b[0m expected an indented block\n"
     ]
    }
   ],
   "source": [
    "import datetime as date\n",
    "%run Block.py\n",
    "\n",
    "def create_genesis_block():\n",
    "  # Manually construct a block with\n",
    "  # index zero and arbitrary previous hash\n",
    "    return Block(0, date.datetime.now(), \"Genesis Block\", \"0\")\n",
    "\n",
    "\n",
    "def next_block(last_block):\n",
    "    this_index = last_block.index + 1\n",
    "    this_timestamp = date.datetime.now()\n",
    "    this_data = \"Hey! I'm block \" + str(this_index)\n",
    "    this_hash = last_block.hash\n",
    "    return Block(this_index, this_timestamp, this_data, this_hash)"
   ]
  },
  {
   "cell_type": "code",
   "execution_count": 1,
   "metadata": {},
   "outputs": [
    {
     "ename": "IndentationError",
     "evalue": "expected an indented block (Block.py, line 5)",
     "output_type": "error",
     "traceback": [
      "\u001b[0;36m  File \u001b[0;32m\"/home/piedziak/pawel_github/Blockchain/Block.py\"\u001b[0;36m, line \u001b[0;32m5\u001b[0m\n\u001b[0;31m    self.index = index\u001b[0m\n\u001b[0m       ^\u001b[0m\n\u001b[0;31mIndentationError\u001b[0m\u001b[0;31m:\u001b[0m expected an indented block\n"
     ]
    },
    {
     "ename": "NameError",
     "evalue": "name 'create_genesis_block' is not defined",
     "output_type": "error",
     "traceback": [
      "\u001b[0;31m---------------------------------------------------------------------------\u001b[0m",
      "\u001b[0;31mNameError\u001b[0m                                 Traceback (most recent call last)",
      "\u001b[0;32m<ipython-input-1-1801af9fce61>\u001b[0m in \u001b[0;36m<module>\u001b[0;34m()\u001b[0m\n\u001b[1;32m      3\u001b[0m \u001b[0;34m\u001b[0m\u001b[0m\n\u001b[1;32m      4\u001b[0m \u001b[0;31m# Create the blockchain and add the genesis block\u001b[0m\u001b[0;34m\u001b[0m\u001b[0;34m\u001b[0m\u001b[0m\n\u001b[0;32m----> 5\u001b[0;31m \u001b[0mblockchain\u001b[0m \u001b[0;34m=\u001b[0m \u001b[0;34m[\u001b[0m\u001b[0mcreate_genesis_block\u001b[0m\u001b[0;34m(\u001b[0m\u001b[0;34m)\u001b[0m\u001b[0;34m]\u001b[0m\u001b[0;34m\u001b[0m\u001b[0m\n\u001b[0m\u001b[1;32m      6\u001b[0m \u001b[0mprevious_block\u001b[0m \u001b[0;34m=\u001b[0m \u001b[0mblockchain\u001b[0m\u001b[0;34m[\u001b[0m\u001b[0;36m0\u001b[0m\u001b[0;34m]\u001b[0m\u001b[0;34m\u001b[0m\u001b[0m\n\u001b[1;32m      7\u001b[0m \u001b[0;34m\u001b[0m\u001b[0m\n",
      "\u001b[0;31mNameError\u001b[0m: name 'create_genesis_block' is not defined"
     ]
    }
   ],
   "source": [
    "\n",
    "\n",
    "# Create the blockchain and add the genesis block\n",
    "blockchain = [create_genesis_block()]\n",
    "previous_block = blockchain[0]\n",
    "\n",
    "# How many blocks should we add to the chain\n",
    "# after the genesis block\n",
    "num_of_blocks_to_add = 20\n",
    "\n",
    "# Add blocks to the chain\n",
    "for i in range(0, num_of_blocks_to_add):\n",
    "    block_to_add = next_block(previous_block)\n",
    "    blockchain.append(block_to_add)\n",
    "    previous_block = block_to_add\n",
    "    # Tell everyone about it!\n",
    "    print (\"Block #{} has been added to the blockchain!\".format(block_to_add.index))\n",
    "    print (\"Hash: {}\\n\".format(block_to_add.hash) )"
   ]
  },
  {
   "cell_type": "code",
   "execution_count": null,
   "metadata": {},
   "outputs": [],
   "source": [
    "credits"
   ]
  }
 ],
 "metadata": {
  "kernelspec": {
   "display_name": "Python 3",
   "language": "python",
   "name": "python3"
  },
  "language_info": {
   "codemirror_mode": {
    "name": "ipython",
    "version": 3
   },
   "file_extension": ".py",
   "mimetype": "text/x-python",
   "name": "python",
   "nbconvert_exporter": "python",
   "pygments_lexer": "ipython3",
   "version": "3.6.3"
  }
 },
 "nbformat": 4,
 "nbformat_minor": 2
}
