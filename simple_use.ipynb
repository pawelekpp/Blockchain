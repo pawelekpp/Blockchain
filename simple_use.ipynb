{
 "cells": [
  {
   "cell_type": "markdown",
   "metadata": {},
   "source": [
    "https://medium.com/crypto-currently/lets-build-the-tiniest-blockchain-e70965a248b"
   ]
  },
  {
   "cell_type": "markdown",
   "metadata": {},
   "source": [
    "https://en.bitcoin.it/wiki/Proof_of_work"
   ]
  },
  {
   "cell_type": "code",
   "execution_count": 20,
   "metadata": {},
   "outputs": [],
   "source": [
    "import datetime as date\n",
    "%run Block.py\n",
    "\n",
    "def create_genesis_block():\n",
    "  # Manually construct a block with\n",
    "  # index zero and arbitrary previous hash\n",
    "    return Block(0, date.datetime.now(), \"Genesis Block\", \"0\")\n",
    "\n",
    "\n",
    "def next_block(last_block):\n",
    "    this_index = last_block.index + 1\n",
    "    this_timestamp = date.datetime.now()\n",
    "    this_data = \"Hey! I'm block \" + str(this_index)\n",
    "    this_hash = last_block.hash\n",
    "    return Block(this_index, this_timestamp, this_data, this_hash)"
   ]
  },
  {
   "cell_type": "code",
   "execution_count": 21,
   "metadata": {},
   "outputs": [],
   "source": [
    "\n",
    "\n",
    "# Create the blockchain and add the genesis block\n",
    "blockchain = [create_genesis_block()]\n",
    "previous_block = blockchain[0]\n",
    "\n"
   ]
  },
  {
   "cell_type": "code",
   "execution_count": 22,
   "metadata": {},
   "outputs": [
    {
     "name": "stdout",
     "output_type": "stream",
     "text": [
      "Block #1 has been added to the blockchain!\n",
      "Hash: 913d490b447d5bb85ac7984fa28d9a91c60ebdf322c136d074e85c5079553237\n",
      "\n",
      "Block #2 has been added to the blockchain!\n",
      "Hash: 2245d9e3565b3c2c59c145cf4a53a96c34a3a10c2e2fca1e1c24c09f0316fd29\n",
      "\n",
      "Block #3 has been added to the blockchain!\n",
      "Hash: b678b586b0472b3c1ad8963c62077063ef085afd12f1c5bcc6c32da4e36f1fda\n",
      "\n",
      "Block #4 has been added to the blockchain!\n",
      "Hash: 6d251ea44cd02312bf1873c576d22f3cc3e948eaa9f0446f637ad36bac6e4efd\n",
      "\n",
      "Block #5 has been added to the blockchain!\n",
      "Hash: a17de3ac9ce132daa969b7a5704359d64b84adc1c7a8807ef37cd4b363ccc8d7\n",
      "\n",
      "Block #6 has been added to the blockchain!\n",
      "Hash: 74efdb66cc201deb00dfe7ed0dd3f799a94be1ed687c031375aa0aad6a74d8d5\n",
      "\n",
      "Block #7 has been added to the blockchain!\n",
      "Hash: b44c6138dcd61bc5b8c78aa13533037c69494cce335be65052dfc4fc5cc6f26a\n",
      "\n",
      "Block #8 has been added to the blockchain!\n",
      "Hash: dc1e1a08fba4163e2067ff4bb037227f028988fffab2cd02fa137f5d90f69a15\n",
      "\n",
      "Block #9 has been added to the blockchain!\n",
      "Hash: c955e691fbd7065eaced6d3b01583eaa2efc7eaa0974399e4a07850d143fa89e\n",
      "\n",
      "Block #10 has been added to the blockchain!\n",
      "Hash: 57f6e45e95aaa740e2062a0e90847dde831b788fa918c4f95e2b86be7113885e\n",
      "\n",
      "Block #11 has been added to the blockchain!\n",
      "Hash: ed3a6f7808c5ddb075781bcbd6218035fc2e495710085c371733bb9e49af975b\n",
      "\n",
      "Block #12 has been added to the blockchain!\n",
      "Hash: b4a9a5244e9667d9a9fdf004b8b060fef67fdd2a47b02d6d3231ea11d5a9e0aa\n",
      "\n",
      "Block #13 has been added to the blockchain!\n",
      "Hash: ee1b5b5f60b79792428d30cdfed178f700e122ef3a3f101f75c29b5c6e7b4aaf\n",
      "\n",
      "Block #14 has been added to the blockchain!\n",
      "Hash: d6e0c69f0cb4f6a8d38382fbca70009ace6fcebafacd06528ed39961834219b6\n",
      "\n",
      "Block #15 has been added to the blockchain!\n",
      "Hash: 5e44efaa776f770e4f47c2ab70ef40f8dc00cde83c4f1da85ecdcaab1e3b0b26\n",
      "\n",
      "Block #16 has been added to the blockchain!\n",
      "Hash: e56ba7b7ade17e0b5f296edf79508532715e3af8ecf05e92bf6d98b52db74e0d\n",
      "\n",
      "Block #17 has been added to the blockchain!\n",
      "Hash: aab8702ebde264f140eccdb48e79dd9d3d192555217bc285931c06ccbbb60f4f\n",
      "\n",
      "Block #18 has been added to the blockchain!\n",
      "Hash: 44988dbb1c3492aeef5862a167526d22ee5a77778635cc279d7be687c6360dfe\n",
      "\n",
      "Block #19 has been added to the blockchain!\n",
      "Hash: 9e483f45697304180322b4a04e40763335c2f3fe4d4bb2f3aff87b0ff81ae34f\n",
      "\n",
      "Block #20 has been added to the blockchain!\n",
      "Hash: 7d88ef57202ee66fa18c96aa6a06f6ccd02e7db92465e70854e24e761f183496\n",
      "\n"
     ]
    }
   ],
   "source": [
    "# How many blocks should we add to the chain\n",
    "# after the genesis block\n",
    "num_of_blocks_to_add = 20\n",
    "\n",
    "# Add blocks to the chain\n",
    "for i in range(0, num_of_blocks_to_add):\n",
    "    block_to_add = next_block(previous_block)\n",
    "    blockchain.append(block_to_add)\n",
    "    previous_block = block_to_add\n",
    "    # Tell everyone about it!\n",
    "    print (\"Block #{} has been added to the blockchain!\".format(block_to_add.index))\n",
    "    print (\"Hash: {}\\n\".format(block_to_add.hash) )"
   ]
  },
  {
   "cell_type": "code",
   "execution_count": null,
   "metadata": {},
   "outputs": [],
   "source": []
  }
 ],
 "metadata": {
  "kernelspec": {
   "display_name": "Python 3",
   "language": "python",
   "name": "python3"
  },
  "language_info": {
   "codemirror_mode": {
    "name": "ipython",
    "version": 3
   },
   "file_extension": ".py",
   "mimetype": "text/x-python",
   "name": "python",
   "nbconvert_exporter": "python",
   "pygments_lexer": "ipython3",
   "version": "3.6.3"
  }
 },
 "nbformat": 4,
 "nbformat_minor": 2
}
